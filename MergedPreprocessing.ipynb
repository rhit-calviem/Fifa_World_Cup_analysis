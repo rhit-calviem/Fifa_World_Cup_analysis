{
 "cells": [
  {
   "cell_type": "markdown",
   "id": "b0006ba2-a624-4e7b-b8b9-109eb33954f5",
   "metadata": {},
   "source": [
    "# Merged Preprocessing"
   ]
  },
  {
   "cell_type": "code",
   "execution_count": 1,
   "id": "9ff00ae9-ceea-4810-858b-e255d47a6d90",
   "metadata": {},
   "outputs": [],
   "source": [
    "import pandas as pd"
   ]
  },
  {
   "cell_type": "code",
   "execution_count": 2,
   "id": "d3123cfd-438d-4b1b-b7eb-7123eddf1994",
   "metadata": {},
   "outputs": [
    {
     "data": {
      "text/html": [
       "<div>\n",
       "<style scoped>\n",
       "    .dataframe tbody tr th:only-of-type {\n",
       "        vertical-align: middle;\n",
       "    }\n",
       "\n",
       "    .dataframe tbody tr th {\n",
       "        vertical-align: top;\n",
       "    }\n",
       "\n",
       "    .dataframe thead th {\n",
       "        text-align: right;\n",
       "    }\n",
       "</style>\n",
       "<table border=\"1\" class=\"dataframe\">\n",
       "  <thead>\n",
       "    <tr style=\"text-align: right;\">\n",
       "      <th></th>\n",
       "      <th>date</th>\n",
       "      <th>home_team</th>\n",
       "      <th>away_team</th>\n",
       "      <th>home_score</th>\n",
       "      <th>away_score</th>\n",
       "      <th>tournament</th>\n",
       "      <th>city</th>\n",
       "      <th>country</th>\n",
       "      <th>neutral</th>\n",
       "      <th>game_winner</th>\n",
       "      <th>penalty_winner</th>\n",
       "      <th>first_shooter</th>\n",
       "      <th>Shootout</th>\n",
       "      <th>team</th>\n",
       "      <th>scorer</th>\n",
       "      <th>minute</th>\n",
       "      <th>own_goal</th>\n",
       "      <th>penalty</th>\n",
       "    </tr>\n",
       "  </thead>\n",
       "  <tbody>\n",
       "    <tr>\n",
       "      <th>0</th>\n",
       "      <td>1872-11-30</td>\n",
       "      <td>Scotland</td>\n",
       "      <td>England</td>\n",
       "      <td>0</td>\n",
       "      <td>0</td>\n",
       "      <td>Friendly</td>\n",
       "      <td>Glasgow</td>\n",
       "      <td>Scotland</td>\n",
       "      <td>False</td>\n",
       "      <td>TIE</td>\n",
       "      <td>NaN</td>\n",
       "      <td>NaN</td>\n",
       "      <td>False</td>\n",
       "      <td>NaN</td>\n",
       "      <td>NaN</td>\n",
       "      <td>NaN</td>\n",
       "      <td>NaN</td>\n",
       "      <td>NaN</td>\n",
       "    </tr>\n",
       "    <tr>\n",
       "      <th>1</th>\n",
       "      <td>1873-03-08</td>\n",
       "      <td>England</td>\n",
       "      <td>Scotland</td>\n",
       "      <td>4</td>\n",
       "      <td>2</td>\n",
       "      <td>Friendly</td>\n",
       "      <td>London</td>\n",
       "      <td>England</td>\n",
       "      <td>False</td>\n",
       "      <td>England</td>\n",
       "      <td>NaN</td>\n",
       "      <td>NaN</td>\n",
       "      <td>False</td>\n",
       "      <td>NaN</td>\n",
       "      <td>NaN</td>\n",
       "      <td>NaN</td>\n",
       "      <td>NaN</td>\n",
       "      <td>NaN</td>\n",
       "    </tr>\n",
       "    <tr>\n",
       "      <th>2</th>\n",
       "      <td>1874-03-07</td>\n",
       "      <td>Scotland</td>\n",
       "      <td>England</td>\n",
       "      <td>2</td>\n",
       "      <td>1</td>\n",
       "      <td>Friendly</td>\n",
       "      <td>Glasgow</td>\n",
       "      <td>Scotland</td>\n",
       "      <td>False</td>\n",
       "      <td>Scotland</td>\n",
       "      <td>NaN</td>\n",
       "      <td>NaN</td>\n",
       "      <td>False</td>\n",
       "      <td>NaN</td>\n",
       "      <td>NaN</td>\n",
       "      <td>NaN</td>\n",
       "      <td>NaN</td>\n",
       "      <td>NaN</td>\n",
       "    </tr>\n",
       "  </tbody>\n",
       "</table>\n",
       "</div>"
      ],
      "text/plain": [
       "         date home_team away_team  home_score  away_score tournament     city  \\\n",
       "0  1872-11-30  Scotland   England           0           0   Friendly  Glasgow   \n",
       "1  1873-03-08   England  Scotland           4           2   Friendly   London   \n",
       "2  1874-03-07  Scotland   England           2           1   Friendly  Glasgow   \n",
       "\n",
       "    country  neutral game_winner penalty_winner first_shooter  Shootout team  \\\n",
       "0  Scotland    False         TIE            NaN           NaN     False  NaN   \n",
       "1   England    False     England            NaN           NaN     False  NaN   \n",
       "2  Scotland    False    Scotland            NaN           NaN     False  NaN   \n",
       "\n",
       "  scorer  minute own_goal penalty  \n",
       "0    NaN     NaN      NaN     NaN  \n",
       "1    NaN     NaN      NaN     NaN  \n",
       "2    NaN     NaN      NaN     NaN  "
      ]
     },
     "execution_count": 2,
     "metadata": {},
     "output_type": "execute_result"
    }
   ],
   "source": [
    "df = pd.read_csv('merged.csv')\n",
    "df.head(3)"
   ]
  },
  {
   "cell_type": "code",
   "execution_count": 3,
   "id": "1a559d70-79a9-4839-9758-220947492988",
   "metadata": {},
   "outputs": [
    {
     "name": "stdout",
     "output_type": "stream",
     "text": [
      "<class 'pandas.core.frame.DataFrame'>\n",
      "RangeIndex: 74518 entries, 0 to 74517\n",
      "Data columns (total 18 columns):\n",
      " #   Column          Non-Null Count  Dtype  \n",
      "---  ------          --------------  -----  \n",
      " 0   date            74518 non-null  object \n",
      " 1   home_team       74518 non-null  object \n",
      " 2   away_team       74518 non-null  object \n",
      " 3   home_score      74518 non-null  int64  \n",
      " 4   away_score      74518 non-null  int64  \n",
      " 5   tournament      74518 non-null  object \n",
      " 6   city            74518 non-null  object \n",
      " 7   country         74518 non-null  object \n",
      " 8   neutral         74518 non-null  bool   \n",
      " 9   game_winner     74518 non-null  object \n",
      " 10  penalty_winner  769 non-null    object \n",
      " 11  first_shooter   182 non-null    object \n",
      " 12  Shootout        74518 non-null  bool   \n",
      " 13  team            43189 non-null  object \n",
      " 14  scorer          43139 non-null  object \n",
      " 15  minute          42929 non-null  float64\n",
      " 16  own_goal        43187 non-null  object \n",
      " 17  penalty         43187 non-null  object \n",
      "dtypes: bool(2), float64(1), int64(2), object(13)\n",
      "memory usage: 9.2+ MB\n"
     ]
    }
   ],
   "source": [
    "df.info()"
   ]
  },
  {
   "cell_type": "code",
   "execution_count": 4,
   "id": "8c89431c-9f41-4284-a544-97b374d1bf93",
   "metadata": {},
   "outputs": [
    {
     "data": {
      "text/plain": [
       "date               object\n",
       "home_team          object\n",
       "away_team          object\n",
       "home_score          int64\n",
       "away_score          int64\n",
       "tournament         object\n",
       "city               object\n",
       "country            object\n",
       "neutral              bool\n",
       "game_winner        object\n",
       "penalty_winner     object\n",
       "first_shooter      object\n",
       "Shootout             bool\n",
       "team               object\n",
       "scorer             object\n",
       "minute            float64\n",
       "own_goal           object\n",
       "penalty            object\n",
       "dtype: object"
      ]
     },
     "execution_count": 4,
     "metadata": {},
     "output_type": "execute_result"
    }
   ],
   "source": [
    "df.dtypes"
   ]
  },
  {
   "cell_type": "markdown",
   "id": "9fc60a0a-273f-4047-80b5-d44b57f8bff3",
   "metadata": {},
   "source": [
    "## Convert Data Types"
   ]
  },
  {
   "cell_type": "code",
   "execution_count": 5,
   "id": "30d0989c-4d96-45c9-9c44-8cb06aa5cf2e",
   "metadata": {},
   "outputs": [],
   "source": [
    "df['date'] = pd.to_datetime(df['date'])\n",
    "df['home_team'] = df['home_team'].astype('category')\n",
    "df['away_team'] = df['away_team'].astype('category')\n",
    "df['tournament'] = df['tournament'].astype('category')\n",
    "df['city'] = df['city'].astype('category')\n",
    "df['country'] = df['country'].astype('category')\n",
    "df['game_winner'] = df['game_winner'].astype('category')\n",
    "df['penalty_winner'] = df['penalty_winner'].astype('category')\n",
    "df['first_shooter'] = df['first_shooter'].astype('category')\n",
    "df['team'] = df['team'].astype('category')\n",
    "df['scorer'] = df['scorer'].astype('category')\n",
    "df['own_goal'] = df['own_goal'].astype('bool')\n",
    "df['penalty'] = df['penalty'].astype('bool')"
   ]
  },
  {
   "cell_type": "code",
   "execution_count": 6,
   "id": "f351176e-2547-4faa-b3db-f29f2cf88ab4",
   "metadata": {},
   "outputs": [
    {
     "name": "stdout",
     "output_type": "stream",
     "text": [
      "<class 'pandas.core.frame.DataFrame'>\n",
      "RangeIndex: 74518 entries, 0 to 74517\n",
      "Data columns (total 18 columns):\n",
      " #   Column          Non-Null Count  Dtype         \n",
      "---  ------          --------------  -----         \n",
      " 0   date            74518 non-null  datetime64[ns]\n",
      " 1   home_team       74518 non-null  category      \n",
      " 2   away_team       74518 non-null  category      \n",
      " 3   home_score      74518 non-null  int64         \n",
      " 4   away_score      74518 non-null  int64         \n",
      " 5   tournament      74518 non-null  category      \n",
      " 6   city            74518 non-null  category      \n",
      " 7   country         74518 non-null  category      \n",
      " 8   neutral         74518 non-null  bool          \n",
      " 9   game_winner     74518 non-null  category      \n",
      " 10  penalty_winner  769 non-null    category      \n",
      " 11  first_shooter   182 non-null    category      \n",
      " 12  Shootout        74518 non-null  bool          \n",
      " 13  team            43189 non-null  category      \n",
      " 14  scorer          43139 non-null  category      \n",
      " 15  minute          42929 non-null  float64       \n",
      " 16  own_goal        74518 non-null  bool          \n",
      " 17  penalty         74518 non-null  bool          \n",
      "dtypes: bool(4), category(10), datetime64[ns](1), float64(1), int64(2)\n",
      "memory usage: 4.7 MB\n"
     ]
    }
   ],
   "source": [
    "df.info()"
   ]
  },
  {
   "cell_type": "code",
   "execution_count": null,
   "id": "7322dd51-8ea9-4a8b-9f51-73843ff5a2cd",
   "metadata": {},
   "outputs": [],
   "source": []
  }
 ],
 "metadata": {
  "kernelspec": {
   "display_name": "Python 3 (ipykernel)",
   "language": "python",
   "name": "python3"
  },
  "language_info": {
   "codemirror_mode": {
    "name": "ipython",
    "version": 3
   },
   "file_extension": ".py",
   "mimetype": "text/x-python",
   "name": "python",
   "nbconvert_exporter": "python",
   "pygments_lexer": "ipython3",
   "version": "3.11.5"
  }
 },
 "nbformat": 4,
 "nbformat_minor": 5
}
